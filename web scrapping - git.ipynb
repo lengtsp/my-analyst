{
 "cells": [
  {
   "cell_type": "code",
   "execution_count": null,
   "id": "722637ea",
   "metadata": {},
   "outputs": [],
   "source": [
    "import warnings; warnings.simplefilter('ignore')\n",
    "!pip install import-ipynb\n",
    "!pip install selenium\n",
    "!pip install webdriver-manager\n",
    "\n",
    "import import_ipynb\n",
    "import pandas as pd\n",
    "import numpy as np\n",
    "import time\n",
    "import os\n",
    "\n",
    "from selenium import webdriver\n",
    "from selenium.webdriver.common.keys import Keys\n",
    "from selenium.webdriver.support.ui import WebDriverWait\n",
    "from selenium.webdriver.support import expected_conditions as EC\n",
    "from webdriver_manager.chrome import ChromeDriverManager\n",
    "from selenium.webdriver.common.action_chains import ActionChains\n",
    "from selenium.webdriver.common.by import By\n",
    "from selenium.webdriver.support.ui import Select\n",
    "from selenium.common.exceptions import NoSuchElementException\n",
    "\n",
    "\n",
    "from datetime import datetime"
   ]
  },
  {
   "cell_type": "code",
   "execution_count": null,
   "id": "f1df6867",
   "metadata": {},
   "outputs": [],
   "source": [
    "class clssAccessWebsite():\n",
    "    base_url = \"https://myurl\"\n",
    "    \n",
    "    def setUp(self):\n",
    "        self.driver = webdriver.Chrome(ChromeDriverManager().install())\n",
    "        self.driver.implicitly_wait(10)\n",
    "        \n",
    "    def load_home_page(self):\n",
    "        driver = self.driver\n",
    "        driver.get(self.base_url)\n",
    "\n",
    "    def search_emplid(self,emplidsearchText):\n",
    "        self.driver.get('https://PB'+ emplidsearchText)\n",
    "\n",
    "        emplidsearchText =  emplidsearchText\n",
    "        with open(r'C:\\Users\\mypc\\Documents\\Python Scripts\\pic\\\\'+emplidsearchText+'.jpg', 'wb') as file:\n",
    "                captcha = self.driver.find_element(By.XPATH, '/html/body/img')\n",
    "                file.write(captcha.screenshot_as_png) #write to folder\n",
    "                self.driver.refresh()\n",
    "        "
   ]
  },
  {
   "cell_type": "code",
   "execution_count": null,
   "id": "750b074e",
   "metadata": {
    "scrolled": true
   },
   "outputs": [],
   "source": [
    "myclass = clssAccessWebsite()\n",
    "myclass.setUp()\n",
    "myclass.load_home_page()\n",
    "time.sleep(1)"
   ]
  },
  {
   "cell_type": "code",
   "execution_count": null,
   "id": "40c33236",
   "metadata": {},
   "outputs": [],
   "source": [
    "# myclass.reset_page()"
   ]
  },
  {
   "cell_type": "code",
   "execution_count": null,
   "id": "dea94e4d",
   "metadata": {},
   "outputs": [],
   "source": []
  },
  {
   "cell_type": "code",
   "execution_count": null,
   "id": "05d4e5b4",
   "metadata": {
    "scrolled": true
   },
   "outputs": [],
   "source": []
  },
  {
   "cell_type": "code",
   "execution_count": null,
   "id": "8ab94482",
   "metadata": {},
   "outputs": [],
   "source": [
    "import pandas as pd\n",
    "\n",
    "df = pd.read_excel (r'C:\\filexxxx.xlsx')"
   ]
  },
  {
   "cell_type": "code",
   "execution_count": null,
   "id": "2de51caf",
   "metadata": {},
   "outputs": [],
   "source": [
    "df_active = df['emplid'][(~df.empl_status.isin(['T','D'])) ] "
   ]
  },
  {
   "cell_type": "code",
   "execution_count": null,
   "id": "c03fe9ce",
   "metadata": {
    "scrolled": true
   },
   "outputs": [],
   "source": [
    "for x in df_active:\n",
    "    myclass.search_emplid(str(x))"
   ]
  },
  {
   "cell_type": "code",
   "execution_count": null,
   "id": "e5162b5e",
   "metadata": {},
   "outputs": [],
   "source": []
  }
 ],
 "metadata": {
  "kernelspec": {
   "display_name": "Python 3 (ipykernel)",
   "language": "python",
   "name": "python3"
  },
  "language_info": {
   "codemirror_mode": {
    "name": "ipython",
    "version": 3
   },
   "file_extension": ".py",
   "mimetype": "text/x-python",
   "name": "python",
   "nbconvert_exporter": "python",
   "pygments_lexer": "ipython3",
   "version": "3.9.7"
  }
 },
 "nbformat": 4,
 "nbformat_minor": 5
}
